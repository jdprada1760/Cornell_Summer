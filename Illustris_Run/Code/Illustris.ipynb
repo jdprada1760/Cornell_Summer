{
 "metadata": {
  "name": ""
 },
 "nbformat": 3,
 "nbformat_minor": 0,
 "worksheets": [
  {
   "cells": [
    {
     "cell_type": "code",
     "collapsed": false,
     "input": [
      "%pylab inline\n",
      "import illustris_python as il\n",
      "from copy import deepcopy\n",
      "import time\n",
      "basePath = './Illustris-3'"
     ],
     "language": "python",
     "metadata": {},
     "outputs": [
      {
       "output_type": "stream",
       "stream": "stdout",
       "text": [
        "Populating the interactive namespace from numpy and matplotlib\n"
       ]
      },
      {
       "output_type": "stream",
       "stream": "stderr",
       "text": [
        "WARNING: pylab import has clobbered these variables: ['dist']\n",
        "`%pylab --no-import-all` prevents importing * from pylab and numpy\n"
       ]
      }
     ],
     "prompt_number": 113
    },
    {
     "cell_type": "heading",
     "level": 2,
     "metadata": {},
     "source": [
      "Subhaloes (galaxies)"
     ]
    },
    {
     "cell_type": "code",
     "collapsed": false,
     "input": [
      "fields = ['SubhaloCM','SubhaloVel','SubhaloStellarPhotometrics','SubhaloMassType','SubhaloParent']\n",
      "g = il.groupcat.loadSubhalos(basePath,135,fields=fields)\n",
      "g.keys()[1:]\n",
      "print g['SubhaloStellarPhotometrics'].T[5]"
     ],
     "language": "python",
     "metadata": {},
     "outputs": [
      {
       "output_type": "stream",
       "stream": "stdout",
       "text": [
        "[ -2.52549553e+01  -2.36374397e+01  -2.27733631e+01 ...,   9.99999993e+36\n",
        "   9.99999993e+36   9.99999993e+36]\n"
       ]
      }
     ],
     "prompt_number": 115
    },
    {
     "cell_type": "code",
     "collapsed": false,
     "input": [
      "print g['count']\n",
      "# filter the galaxies for its photometrics (only rband < -19)\n",
      "i = 0\n",
      "while i < g['count']:\n",
      "    if g['SubhaloStellarPhotometrics'][i][5] > -19.0:\n",
      "        for k in g.keys()[1:]:\n",
      "            g[k] = np.delete( g[k], i, 0 )\n",
      "        g['count'] -= 1\n",
      "    else:\n",
      "        i += 1\n",
      "print g['count']\n"
     ],
     "language": "python",
     "metadata": {},
     "outputs": [
      {
       "output_type": "stream",
       "stream": "stdout",
       "text": [
        "121209\n",
        "7677"
       ]
      },
      {
       "output_type": "stream",
       "stream": "stdout",
       "text": [
        "\n"
       ]
      }
     ],
     "prompt_number": 116
    },
    {
     "cell_type": "heading",
     "level": 2,
     "metadata": {},
     "source": [
      "Haloes"
     ]
    },
    {
     "cell_type": "code",
     "collapsed": false,
     "input": [
      "fields = ['GroupCM','GroupVel','GroupFirstSub','GroupMassType']\n",
      "h = il.groupcat.loadHalos(basePath,135,fields=fields)"
     ],
     "language": "python",
     "metadata": {},
     "outputs": [
      {
       "ename": "NameError",
       "evalue": "name 'il' is not defined",
       "output_type": "pyerr",
       "traceback": [
        "\u001b[0;31m---------------------------------------------------------------------------\u001b[0m\n\u001b[0;31mNameError\u001b[0m                                 Traceback (most recent call last)",
        "\u001b[0;32m<ipython-input-12-fd32818e12c4>\u001b[0m in \u001b[0;36m<module>\u001b[0;34m()\u001b[0m\n\u001b[1;32m      1\u001b[0m \u001b[0mfields\u001b[0m \u001b[0;34m=\u001b[0m \u001b[0;34m[\u001b[0m\u001b[0;34m'GroupCM'\u001b[0m\u001b[0;34m,\u001b[0m\u001b[0;34m'GroupVel'\u001b[0m\u001b[0;34m,\u001b[0m\u001b[0;34m'GroupFirstSub'\u001b[0m\u001b[0;34m,\u001b[0m\u001b[0;34m'GroupMassType'\u001b[0m\u001b[0;34m]\u001b[0m\u001b[0;34m\u001b[0m\u001b[0m\n\u001b[0;32m----> 2\u001b[0;31m \u001b[0mh\u001b[0m \u001b[0;34m=\u001b[0m \u001b[0mil\u001b[0m\u001b[0;34m.\u001b[0m\u001b[0mgroupcat\u001b[0m\u001b[0;34m.\u001b[0m\u001b[0mloadHalos\u001b[0m\u001b[0;34m(\u001b[0m\u001b[0mbasePath\u001b[0m\u001b[0;34m,\u001b[0m\u001b[0;36m135\u001b[0m\u001b[0;34m,\u001b[0m\u001b[0mfields\u001b[0m\u001b[0;34m=\u001b[0m\u001b[0mfields\u001b[0m\u001b[0;34m)\u001b[0m\u001b[0;34m\u001b[0m\u001b[0m\n\u001b[0m",
        "\u001b[0;31mNameError\u001b[0m: name 'il' is not defined"
       ]
      }
     ],
     "prompt_number": 12
    },
    {
     "cell_type": "code",
     "collapsed": false,
     "input": [
      "h.keys(), h['count']"
     ],
     "language": "python",
     "metadata": {},
     "outputs": [
      {
       "ename": "NameError",
       "evalue": "name 'h' is not defined",
       "output_type": "pyerr",
       "traceback": [
        "\u001b[0;31m---------------------------------------------------------------------------\u001b[0m\n\u001b[0;31mNameError\u001b[0m                                 Traceback (most recent call last)",
        "\u001b[0;32m<ipython-input-11-c6eaf6bcb0d4>\u001b[0m in \u001b[0;36m<module>\u001b[0;34m()\u001b[0m\n\u001b[0;32m----> 1\u001b[0;31m \u001b[0mh\u001b[0m\u001b[0;34m.\u001b[0m\u001b[0mkeys\u001b[0m\u001b[0;34m(\u001b[0m\u001b[0;34m)\u001b[0m\u001b[0;34m,\u001b[0m \u001b[0mh\u001b[0m\u001b[0;34m[\u001b[0m\u001b[0;34m'count'\u001b[0m\u001b[0;34m]\u001b[0m\u001b[0;34m\u001b[0m\u001b[0m\n\u001b[0m",
        "\u001b[0;31mNameError\u001b[0m: name 'h' is not defined"
       ]
      }
     ],
     "prompt_number": 11
    },
    {
     "cell_type": "heading",
     "level": 2,
     "metadata": {},
     "source": [
      "Method"
     ]
    },
    {
     "cell_type": "code",
     "collapsed": false,
     "input": [
      "# chooses the nth nearest neighbor\n",
      "# arr the array of nearest galaxies\n",
      "def nth(a):\n",
      "    if( len(a) >= 4 ):\n",
      "        a = delete(a,argmin(a))\n",
      "        a = delete(a,argmin(a))\n",
      "        a = delete(a,argmin(a))\n",
      "        return amin(a)\n",
      "    return 0\n",
      "\n",
      "        "
     ],
     "language": "python",
     "metadata": {},
     "outputs": [],
     "prompt_number": 129
    },
    {
     "cell_type": "code",
     "collapsed": false,
     "input": [
      "# Defines the POV\n",
      "p = [0,0,0]\n",
      "# n = nth nearest neighbor for env definition\n",
      "n = 3\n",
      "# Hubble constant  and little h\n",
      "hubb = 100\n",
      "lh = 0.7\n",
      "# stores the environment values (distance to the 4th)\n",
      "env = []\n",
      "# takes the time\n",
      "start_time = time.time()\n",
      "for j in range(10):#h['count']\n",
      "    i = 0\n",
      "    dists = []\n",
      "    c = 0\n",
      "    for i in range(g['count']):\n",
      "        # calculates the velocity difference taking into account universe in expansion\n",
      "        delta = h['GroupVel'][j] - g['SubhaloVel'][i] + (hubb/lh)*(h['GroupCM'][j] - g['SubhaloCM'][i])\n",
      "        # projects over the radial direction obs-halo\n",
      "        rad = h['GroupCM'][j]-p\n",
      "        rad2 = rad/np.linalg.norm(rad)\n",
      "        a = abs(np.dot(rad2,delta))\n",
      "        # verifies the cutoff of velocities and IDs(coming soon)\n",
      "        if a - 500 <= 0 :\n",
      "            c+= 1\n",
      "            # saves the distance to de galaxy (projected in the sky)\n",
      "            x = np.dot(rad2,g['SubhaloCM'][i]-p)/np.linalg.norm(g['SubhaloCM'][i]-p)\n",
      "            dist = np.linalg.norm(rad)*sqrt(1-x**2)/x\n",
      "            dists.append(dist)\n",
      "    dists = np.array(dists)\n",
      "    env.append(nth(dists))\n",
      "        # Takes the nearest neighbor from dists\n",
      "\n",
      "# prints the time\n",
      "print(time.time() - start_time)\n",
      "    "
     ],
     "language": "python",
     "metadata": {},
     "outputs": [
      {
       "output_type": "stream",
       "stream": "stdout",
       "text": [
        "3.84879398346\n"
       ]
      }
     ],
     "prompt_number": 130
    },
    {
     "cell_type": "code",
     "collapsed": false,
     "input": [
      "import requests\n",
      "\n",
      "baseUrl = 'http://www.illustris-project.org/api/'\n",
      "headers = {\"api-key\":\"f02a0b918ddd7aadd83a7865637523b9\"}\n",
      "def get(path, params=None):\n",
      "    # make HTTP GET request to path\n",
      "    r = requests.get(path, params=params, headers=headers)\n",
      "    # raise exception if response code is not HTTP SUCCESS (200)\n",
      "    r.raise_for_status()\n",
      "    if r.headers['content-type'] == 'application/json':\n",
      "        return r.json() # parse json responses automatically\n",
      "    return r"
     ],
     "language": "python",
     "metadata": {},
     "outputs": [],
     "prompt_number": 2
    },
    {
     "cell_type": "code",
     "collapsed": false,
     "input": [
      "r = get(baseUrl)"
     ],
     "language": "python",
     "metadata": {},
     "outputs": [],
     "prompt_number": 3
    },
    {
     "cell_type": "code",
     "collapsed": false,
     "input": [
      "r['simulations'][0]"
     ],
     "language": "python",
     "metadata": {},
     "outputs": [
      {
       "metadata": {},
       "output_type": "pyout",
       "prompt_number": 6,
       "text": [
        "{u'name': u'Illustris-1',\n",
        " u'num_snapshots': 134,\n",
        " u'url': u'http://www.illustris-project.org/api/Illustris-1/'}"
       ]
      }
     ],
     "prompt_number": 6
    },
    {
     "cell_type": "code",
     "collapsed": false,
     "input": [
      "sim = get( r['simulations'][0]['url'] )"
     ],
     "language": "python",
     "metadata": {},
     "outputs": [],
     "prompt_number": 7
    },
    {
     "cell_type": "code",
     "collapsed": false,
     "input": [
      "snaps = get( sim['snapshots'] )"
     ],
     "language": "python",
     "metadata": {},
     "outputs": [],
     "prompt_number": 8
    },
    {
     "cell_type": "code",
     "collapsed": false,
     "input": [
      "len(snaps)"
     ],
     "language": "python",
     "metadata": {},
     "outputs": [
      {
       "metadata": {},
       "output_type": "pyout",
       "prompt_number": 9,
       "text": [
        "134"
       ]
      }
     ],
     "prompt_number": 9
    },
    {
     "cell_type": "code",
     "collapsed": false,
     "input": [
      "snaps[-1]"
     ],
     "language": "python",
     "metadata": {},
     "outputs": [
      {
       "metadata": {},
       "output_type": "pyout",
       "prompt_number": 10,
       "text": [
        "{u'num_groups_subfind': 4366546,\n",
        " u'number': 135,\n",
        " u'redshift': 2.2204460492503099e-16,\n",
        " u'url': u'http://www.illustris-project.org/api/Illustris-1/snapshots/135/'}"
       ]
      }
     ],
     "prompt_number": 10
    },
    {
     "cell_type": "code",
     "collapsed": false,
     "input": [],
     "language": "python",
     "metadata": {},
     "outputs": []
    }
   ],
   "metadata": {}
  }
 ]
}