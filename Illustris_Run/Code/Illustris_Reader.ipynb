{
 "metadata": {
  "name": ""
 },
 "nbformat": 3,
 "nbformat_minor": 0,
 "worksheets": [
  {
   "cells": [
    {
     "cell_type": "code",
     "collapsed": false,
     "input": [
      "%pylab inline\n",
      "import numpy as np\n",
      "import illustris_python as il\n",
      "import sys\n",
      "import time\n",
      "# Mass resolution of the simulation\n",
      "Mg = 8.85678e+5"
     ],
     "language": "python",
     "metadata": {},
     "outputs": [],
     "prompt_number": 53
    },
    {
     "cell_type": "code",
     "collapsed": false,
     "input": [
      "######################################################\n",
      "#                   Load Subhalos                    #\n",
      "######################################################\n",
      "def getGalaxies(basePath,b):\n",
      "    start_time = time.time()\n",
      "    # Selects the fields to load for subhalos\n",
      "    fields = ['SubhaloCM','SubhaloVel','SubhaloStellarPhotometrics','SubhaloMassType']\n",
      "    # Loads subhalos to variable g\n",
      "    g = il.groupcat.loadSubhalos(basePath,135,fields=fields)\n",
      "    \n",
      "    # Counts the galaxies by magnitude and not null gas mass\n",
      "    # filter the galaxies for its photometrics (only rband < -19)\n",
      "    print \"Number of galaxies before: \" + str(g['count'])\n",
      "    ngalaxies = 0\n",
      "    for i in range(g['count']):\n",
      "        if( (g['SubhaloMassType'][i][0] != 0) and ((g[fields[2]][i][5] < -19) or b) ):\n",
      "        #if(True):\n",
      "            ngalaxies += 1\n",
      "    print \"Number of galaxies after: \" + str(ngalaxies)\n",
      "    # Creates arrays for the candidate galaxies and fills it\n",
      "    Galaxies = np.array([[0.0,0.0,0.0,0.0,0.0,0.0,0.0,0.0] for i in range(ngalaxies)])\n",
      "    i = 0\n",
      "    for j in range(g['count']):\n",
      "        if( (g['SubhaloMassType'][j][0] != 0) and ((g[fields[2]][j][5] < -19) or b) ):\n",
      "        #if(True):    \n",
      "            #print g['SubhaloMassType'][j][0]\n",
      "            Galaxies[i][0] = g['SubhaloCM'][j][0]\n",
      "            Galaxies[i][1] = g['SubhaloCM'][j][1]\n",
      "            Galaxies[i][2] = g['SubhaloCM'][j][2]\n",
      "            Galaxies[i][3] = g['SubhaloVel'][j][0]\n",
      "            Galaxies[i][4] = g['SubhaloVel'][j][1] \n",
      "            Galaxies[i][5] = g['SubhaloVel'][j][2]\n",
      "            Galaxies[i][6] = g['SubhaloMassType'][j][0]\n",
      "            Galaxies[i][7] = g['SubhaloMassType'][j][1]\n",
      "            i+=1\n",
      "    #print \"Time elapsed: \" + str(time.time() - start_time)\n",
      "    return Galaxies\n",
      "\n",
      "######################################################\n",
      "#                   Histogram Func                   #\n",
      "######################################################\n",
      "# Gives the x,y of the histogram for logmasses from the given array of mass\n",
      "vol = (75e+3/0.7)**3\n",
      "def histog( mf, nbins ):\n",
      "    hist, bin_edges = np.histogram(mf, bins = nbins)\n",
      "    # Obtains the center point for each bin\n",
      "    xcenter = (bin_edges[:-1] + bin_edges[1:])/2\n",
      "    return np.array(xcenter), np.array(hist/vol)"
     ],
     "language": "python",
     "metadata": {},
     "outputs": [],
     "prompt_number": 62
    },
    {
     "cell_type": "code",
     "collapsed": false,
     "input": [
      "basePath = \"../Illustris-1\"\n",
      "Galaxies = getGalaxies(basePath,False)\n",
      "np.savetxt('Galaxy1.csv', Galaxies, delimiter = ',')"
     ],
     "language": "python",
     "metadata": {},
     "outputs": [
      {
       "output_type": "stream",
       "stream": "stdout",
       "text": [
        "Number of galaxies before: 4366546\n",
        "Number of galaxies after: 16163"
       ]
      },
      {
       "output_type": "stream",
       "stream": "stdout",
       "text": [
        "\n"
       ]
      }
     ],
     "prompt_number": 63
    },
    {
     "cell_type": "code",
     "collapsed": false,
     "input": [
      "basePath = \"../Illustris-1\"\n",
      "G_Filter = getGalaxies(basePath,False)\n",
      "G_NoFilter = getGalaxies(basePath,True)"
     ],
     "language": "python",
     "metadata": {},
     "outputs": [
      {
       "output_type": "stream",
       "stream": "stdout",
       "text": [
        "Number of galaxies before: 4366546\n",
        "Number of galaxies after: 16163"
       ]
      },
      {
       "output_type": "stream",
       "stream": "stdout",
       "text": [
        "\n",
        "Number of galaxies before: 4366546"
       ]
      },
      {
       "output_type": "stream",
       "stream": "stdout",
       "text": [
        "\n",
        "Number of galaxies after: 369601"
       ]
      },
      {
       "output_type": "stream",
       "stream": "stdout",
       "text": [
        "\n"
       ]
      }
     ],
     "prompt_number": 64
    },
    {
     "cell_type": "heading",
     "level": 1,
     "metadata": {},
     "source": [
      "Filter"
     ]
    },
    {
     "cell_type": "heading",
     "level": 3,
     "metadata": {},
     "source": [
      "Gas"
     ]
    },
    {
     "cell_type": "code",
     "collapsed": false,
     "input": [
      "tmp = histog(log10(G_Filter.T[6]*(10**10)),20)\n",
      "plt.errorbar( tmp[0], log10(tmp[1]), yerr = sqrt(vol*tmp[1])/(vol*tmp[1]), fmt='o', ecolor = 'r', c = 'b', markersize=3,elinewidth=1.5)\n",
      "#ax.bar( tmp[0] , log10(tmp[1]), width = tmp[0][1]-tmp[0][2], alpha = 0.4, align = 'center' )"
     ],
     "language": "python",
     "metadata": {},
     "outputs": [
      {
       "metadata": {},
       "output_type": "pyout",
       "prompt_number": 66,
       "text": [
        "<Container object of 3 artists>"
       ]
      },
      {
       "metadata": {},
       "output_type": "display_data",
       "png": "[encoded data removed]",
       "text": [
        "<matplotlib.figure.Figure at 0x7f681b072410>"
       ]
      }
     ],
     "prompt_number": 66
    },
    {
     "cell_type": "heading",
     "level": 3,
     "metadata": {},
     "source": [
      " DM"
     ]
    },
    {
     "cell_type": "code",
     "collapsed": false,
     "input": [
      "tmp = histog(log10(G_Filter.T[7][where(G_Filter.T[7]!=0)]*(10**10)),20)\n",
      "plt.errorbar( tmp[0], log10(tmp[1]), yerr = sqrt(vol*tmp[1])/(vol*tmp[1]), fmt='o', ecolor = 'r', c = 'b', markersize=3,elinewidth=1.5)\n",
      "#ax.bar( tmp[0] , log10(tmp[1]), width = tmp[0][1]-tmp[0][2], alpha = 0.4, align = 'center' )"
     ],
     "language": "python",
     "metadata": {},
     "outputs": [
      {
       "metadata": {},
       "output_type": "pyout",
       "prompt_number": 71,
       "text": [
        "<Container object of 3 artists>"
       ]
      },
      {
       "metadata": {},
       "output_type": "display_data",
       "png": "[encoded data removed]",
       "text": [
        "<matplotlib.figure.Figure at 0x7f681ae06dd0>"
       ]
      }
     ],
     "prompt_number": 71
    },
    {
     "cell_type": "heading",
     "level": 1,
     "metadata": {},
     "source": [
      "No Filter"
     ]
    },
    {
     "cell_type": "heading",
     "level": 3,
     "metadata": {},
     "source": [
      "Gas"
     ]
    },
    {
     "cell_type": "code",
     "collapsed": false,
     "input": [
      "tmp = histog(log10(G_NoFilter.T[6]*(10**10)),20)\n",
      "plt.errorbar( tmp[0], log10(tmp[1]), yerr = sqrt(vol*tmp[1])/(vol*tmp[1]), fmt='o', ecolor = 'r', c = 'b', markersize=3,elinewidth=1.5)\n",
      "#ax.bar( tmp[0] , log10(tmp[1]), width = tmp[0][1]-tmp[0][2], alpha = 0.4, align = 'center' )"
     ],
     "language": "python",
     "metadata": {},
     "outputs": [
      {
       "metadata": {},
       "output_type": "pyout",
       "prompt_number": 72,
       "text": [
        "<Container object of 3 artists>"
       ]
      },
      {
       "metadata": {},
       "output_type": "display_data",
       "png": "[encoded data removed]",
       "text": [
        "<matplotlib.figure.Figure at 0x7f681aced750>"
       ]
      }
     ],
     "prompt_number": 72
    },
    {
     "cell_type": "heading",
     "level": 3,
     "metadata": {},
     "source": [
      "DM"
     ]
    },
    {
     "cell_type": "code",
     "collapsed": false,
     "input": [
      "tmp = histog(log10(G_NoFilter.T[7][where(G_NoFilter.T[7]!=0)]*(10**10)),20)\n",
      "plt.errorbar( tmp[0], log10(tmp[1]), yerr = sqrt(vol*tmp[1])/(vol*tmp[1]), fmt='o', ecolor = 'r', c = 'b', markersize=3,elinewidth=1.5)\n",
      "#ax.bar( tmp[0] , log10(tmp[1]), width = tmp[0][1]-tmp[0][2], alpha = 0.4, align = 'center' )"
     ],
     "language": "python",
     "metadata": {},
     "outputs": [
      {
       "metadata": {},
       "output_type": "pyout",
       "prompt_number": 73,
       "text": [
        "<Container object of 3 artists>"
       ]
      },
      {
       "metadata": {},
       "output_type": "display_data",
       "png": "[encoded data removed]",
       "text": [
        "<matplotlib.figure.Figure at 0x7f681aa5f410>"
       ]
      }
     ],
     "prompt_number": 73
    },
    {
     "cell_type": "heading",
     "level": 1,
     "metadata": {},
     "source": [
      "Photometrics cut"
     ]
    },
    {
     "cell_type": "code",
     "collapsed": false,
     "input": [
      "g = il.groupcat.loadSubhalos(basePath,135,fields=['SubhaloCM','SubhaloStellarPhotometrics'])\n",
      "vol = 1\n",
      "tmp = histog(-g['SubhaloStellarPhotometrics'].T[5][where(abs(g['SubhaloStellarPhotometrics'].T[5]) < 1e+4)],20)\n",
      "plt.errorbar( tmp[0], tmp[1], yerr = sqrt(vol*tmp[1])/(vol*tmp[1]), fmt='o', ecolor = 'r', c = 'b', markersize=3,elinewidth=1.5)\n",
      "plt.plot((19, 19), (0, 40000), 'g-')\n",
      "#ax.bar( tmp[0] , log10(tmp[1]), width = tmp[0][1]-tmp[0][2], alpha = 0.4, align = 'center' ).T[5]"
     ],
     "language": "python",
     "metadata": {},
     "outputs": [
      {
       "metadata": {},
       "output_type": "pyout",
       "prompt_number": 93,
       "text": [
        "[<matplotlib.lines.Line2D at 0x7f6822f1a950>]"
       ]
      },
      {
       "metadata": {},
       "output_type": "display_data",
       "png": "[encoded data removed]",
       "text": [
        "<matplotlib.figure.Figure at 0x7f6823008310>"
       ]
      }
     ],
     "prompt_number": 93
    },
    {
     "cell_type": "code",
     "collapsed": false,
     "input": [
      "print len(g['SubhaloStellarPhotometrics'].T[5][where(abs(g['SubhaloStellarPhotometrics'].T[5]) < 1e+4)]),len(g['SubhaloStellarPhotometrics'].T[5])"
     ],
     "language": "python",
     "metadata": {},
     "outputs": [
      {
       "output_type": "stream",
       "stream": "stdout",
       "text": [
        "307786 4366546\n"
       ]
      }
     ],
     "prompt_number": 86
    },
    {
     "cell_type": "code",
     "collapsed": false,
     "input": [],
     "language": "python",
     "metadata": {},
     "outputs": []
    }
   ],
   "metadata": {}
  }
 ]
}