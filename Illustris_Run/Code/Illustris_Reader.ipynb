{
 "metadata": {
  "name": ""
 },
 "nbformat": 3,
 "nbformat_minor": 0,
 "worksheets": [
  {
   "cells": [
    {
     "cell_type": "code",
     "collapsed": false,
     "input": [
      "import numpy as np\n",
      "import illustris_python as il\n",
      "import sys\n",
      "import time\n",
      "# Generates the basepath depending on the simulation by parameter\n",
      "basePath = \"./Illustris-3\""
     ],
     "language": "python",
     "metadata": {},
     "outputs": [],
     "prompt_number": 30
    },
    {
     "cell_type": "code",
     "collapsed": false,
     "input": [
      "######################################################\n",
      "#                   Load Subhalos                    #\n",
      "######################################################\n",
      "start_time = time.time()\n",
      "\n",
      "# Selects the fields to load for subhalos\n",
      "fields = ['SubhaloCM','SubhaloVel','SubhaloStellarPhotometrics','SubhaloMassType']\n",
      "# Loads subhalos in g\n",
      "g = il.groupcat.loadSubhalos(basePath,135,fields=fields)\n",
      "\n",
      "# Filters galaxies by magnitude\n",
      "print \"Filtering galaxies by magnitude...\"\n",
      "print \"Number of galaxies before: \" + str(g['count'])\n",
      "# filter the galaxies for its photometrics (only rband < -19)\n",
      "i = 0\n",
      "while i < g['count']:\n",
      "    if g['SubhaloStellarPhotometrics'][i][5] > -19.0:\n",
      "        for k in g.keys()[1:]:\n",
      "            g[k] = np.delete( g[k], i, 0 )\n",
      "        g['count'] -= 1\n",
      "    else:\n",
      "        i += 1\n",
      "print \"Number of galaxies before: \" + str(g['count'])\n",
      "print \"Time elapsed\" + str(time.time() - start_time)"
     ],
     "language": "python",
     "metadata": {},
     "outputs": [
      {
       "output_type": "stream",
       "stream": "stdout",
       "text": [
        "Number of galaxies before: 121209\n",
        "Number of galaxies before: 7677"
       ]
      },
      {
       "output_type": "stream",
       "stream": "stdout",
       "text": [
        "\n"
       ]
      }
     ],
     "prompt_number": 14
    },
    {
     "cell_type": "code",
     "collapsed": false,
     "input": [
      "######################################################\n",
      "#                     Load Halos                     #\n",
      "######################################################\n",
      "\n",
      "# Selects the fields to load for haloes\n",
      "fields = ['GroupCM','GroupVel','GroupFirstSub','GroupMassType']\n",
      "h = il.groupcat.loadHalos(basePath,135,fields=fields)"
     ],
     "language": "python",
     "metadata": {},
     "outputs": [],
     "prompt_number": 15
    },
    {
     "cell_type": "code",
     "collapsed": false,
     "input": [
      "# Creates the arrays to convert to files\n",
      "print \"Formating info...\"\n",
      "Halos = np.array([[0,0,0,0,0,0,0] for i in range(h['count']) ])\n",
      "Galaxies = np.array([[0,0,0,0,0,0,0] for i in range(h['count']) ])"
     ],
     "language": "python",
     "metadata": {},
     "outputs": [],
     "prompt_number": 21
    },
    {
     "cell_type": "code",
     "collapsed": false,
     "input": [
      "# Fills the arrays\n",
      "for i in range(h['count']):\n",
      "    Halos[i][0] = h['GroupCM'][i][0]\n",
      "    Halos[i][1] = h['GroupCM'][i][1]\n",
      "    Halos[i][2] = h['GroupCM'][i][2]\n",
      "    Halos[i][3] = h['GroupVel'][i][0]\n",
      "    Halos[i][4] = h['GroupVel'][i][1] \n",
      "    Halos[i][5] = h['GroupVel'][i][2]\n",
      "    Halos[i][6] = h['GroupMassType'][i][0]\n",
      "for i in range(g['count']):\n",
      "    Galaxies[i][0] = g['SubhaloCM'][i][0]\n",
      "    Galaxies[i][1] = g['SubhaloCM'][i][1]\n",
      "    Galaxies[i][2] = g['SubhaloCM'][i][2]\n",
      "    Galaxies[i][3] = g['SubhaloVel'][i][0]\n",
      "    Galaxies[i][4] = g['SubhaloVel'][i][1] \n",
      "    Galaxies[i][5] = g['SubhaloVel'][i][2]\n",
      "    Galaxies[i][6] = g['SubhaloMassType'][i][0]"
     ],
     "language": "python",
     "metadata": {},
     "outputs": [],
     "prompt_number": 23
    },
    {
     "cell_type": "code",
     "collapsed": false,
     "input": [
      "# Saves the arrays to files\n",
      "print \"Writing files\"\n",
      "np.savetxt('Halo.csv', Halos, delimiter = ',')\n",
      "np.savetxt('Galaxy.csv', Galaxies, delimiter = ',')\n",
      "print \"Total time elapsed\" + str(time.time() - start_time)"
     ],
     "language": "python",
     "metadata": {},
     "outputs": [],
     "prompt_number": 25
    },
    {
     "cell_type": "code",
     "collapsed": false,
     "input": [
      "#(7*h['count']/100.0)/3600.0"
     ],
     "language": "python",
     "metadata": {},
     "outputs": [
      {
       "metadata": {},
       "output_type": "pyout",
       "prompt_number": 29,
       "text": [
        "2.5613583333333332"
       ]
      }
     ],
     "prompt_number": 29
    },
    {
     "cell_type": "code",
     "collapsed": false,
     "input": [],
     "language": "python",
     "metadata": {},
     "outputs": []
    }
   ],
   "metadata": {}
  }
 ]
}