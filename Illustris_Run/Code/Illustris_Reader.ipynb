{
 "metadata": {
  "name": ""
 },
 "nbformat": 3,
 "nbformat_minor": 0,
 "worksheets": [
  {
   "cells": [
    {
     "cell_type": "code",
     "collapsed": false,
     "input": [
      "import numpy as np\n",
      "import illustris_python as il\n",
      "import sys\n",
      "import time\n",
      "# Generates the basepath depending on the simulation by parameter\n",
      "basePath = \"../Illustris-3\"\n",
      "# Mass resolution of the simulation\n",
      "Mg = 8.85678e+5"
     ],
     "language": "python",
     "metadata": {},
     "outputs": [],
     "prompt_number": 10
    },
    {
     "cell_type": "code",
     "collapsed": false,
     "input": [
      "######################################################\n",
      "#                   Load Subhalos                    #\n",
      "######################################################\n",
      "\n",
      "start_time = time.time()\n",
      "# Selects the fields to load for subhalos\n",
      "fields = ['SubhaloCM','SubhaloVel','SubhaloStellarPhotometrics','SubhaloMassType']\n",
      "# Loads subhalos to variable g\n",
      "g = il.groupcat.loadSubhalos(basePath,135,fields=fields)\n",
      "\n",
      "# Counts the galaxies by magnitude and not null gas mass\n",
      "# filter the galaxies for its photometrics (only rband < -19)\n",
      "print \"Number of galaxies before: \" + str(g['count'])\n",
      "ngalaxies = 0\n",
      "for i in range(g['count']):\n",
      "    if( (g['SubhaloMassType'][i][0] != 0) and (g[fields[2]][i][5] < -19)):\n",
      "        ngalaxies += 1\n",
      "print \"Number of galaxies after: \" + str(ngalaxies)\n",
      "# Creates arrays for the candidate galaxies and fills it\n",
      "print \"Formating info...\"\n",
      "Galaxies = np.array([[0.0,0.0,0.0,0.0,0.0,0.0,0.0,0.0] for i in range(ngalaxies)])\n",
      "i = 0\n",
      "for j in range(g['count']):\n",
      "    if( (g['SubhaloMassType'][j][0] != 0) and (g[fields[2]][j][5] < -19) ):\n",
      "        #print g['SubhaloMassType'][j][0]\n",
      "        Galaxies[i][0] = g['SubhaloCM'][j][0]\n",
      "        Galaxies[i][1] = g['SubhaloCM'][j][1]\n",
      "        Galaxies[i][2] = g['SubhaloCM'][j][2]\n",
      "        Galaxies[i][3] = g['SubhaloVel'][j][0]\n",
      "        Galaxies[i][4] = g['SubhaloVel'][j][1] \n",
      "        Galaxies[i][5] = g['SubhaloVel'][j][2]\n",
      "        Galaxies[i][6] = g['SubhaloMassType'][j][0]\n",
      "        Galaxies[i][7] = g['SubhaloMassType'][j][1]\n",
      "        i+=1\n",
      "print \"Time elapsed: \" + str(time.time() - start_time)\n",
      "start_time = time.time()\n",
      "print \"Writing...\"\n",
      "\n",
      "np.savetxt('Galaxy3.csv', Galaxies, delimiter = ',')\n",
      "print \"Time elapsed: \" + str(time.time() - start_time)\n"
     ],
     "language": "python",
     "metadata": {},
     "outputs": [
      {
       "output_type": "stream",
       "stream": "stdout",
       "text": [
        "Number of galaxies before: 121209\n",
        "Number of galaxies after: 7440"
       ]
      },
      {
       "output_type": "stream",
       "stream": "stdout",
       "text": [
        "\n",
        "Formating info...\n",
        "Time elapsed: 4.10558891296"
       ]
      },
      {
       "output_type": "stream",
       "stream": "stdout",
       "text": [
        "\n",
        "Writing...\n",
        "Time elapsed: 0.132661819458"
       ]
      },
      {
       "output_type": "stream",
       "stream": "stdout",
       "text": [
        "\n"
       ]
      }
     ],
     "prompt_number": 11
    },
    {
     "cell_type": "code",
     "collapsed": false,
     "input": [],
     "language": "python",
     "metadata": {},
     "outputs": []
    }
   ],
   "metadata": {}
  }
 ]
}