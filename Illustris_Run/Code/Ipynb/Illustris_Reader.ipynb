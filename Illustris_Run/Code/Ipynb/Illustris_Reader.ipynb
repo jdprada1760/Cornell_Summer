{
 "metadata": {
  "name": ""
 },
 "nbformat": 3,
 "nbformat_minor": 0,
 "worksheets": [
  {
   "cells": [
    {
     "cell_type": "code",
     "collapsed": false,
     "input": [
      "%pylab inline\n",
      "import numpy as np\n",
      "import illustris_python as il\n",
      "import sys\n",
      "import time\n",
      "# Mass resolution of the simulation\n",
      "Mg = 8.85678e+5"
     ],
     "language": "python",
     "metadata": {},
     "outputs": [
      {
       "output_type": "stream",
       "stream": "stdout",
       "text": [
        "Populating the interactive namespace from numpy and matplotlib\n"
       ]
      }
     ],
     "prompt_number": 1
    },
    {
     "cell_type": "code",
     "collapsed": false,
     "input": [
      "######################################################\n",
      "#                   Load Subhalos                    #\n",
      "######################################################\n",
      "# cut: the cut in photometrics r-band\n",
      "def getGalaxies(basePath,cut):\n",
      "    start_time = time.time()\n",
      "    # Selects the fields to load for subhalos\n",
      "    fields = ['SubhaloCM','SubhaloVel','SubhaloStellarPhotometrics','SubhaloMassType','SubhaloBHMass']\n",
      "    # Loads subhalos to variable g\n",
      "    g = il.groupcat.loadSubhalos(basePath,135,fields=fields)\n",
      "    \n",
      "    # Counts the galaxies by magnitude and not null gas mass\n",
      "    # filter the galaxies for its photometrics (only rband < -19)\n",
      "    print \"Number of galaxies before: \" + str(g['count'])\n",
      "    ngalaxies = 0\n",
      "    for i in range(g['count']):\n",
      "        if( (g['SubhaloMassType'][i][0] != 0) and ((g[fields[2]][i][5] < cut)) ):\n",
      "        #if(True):\n",
      "            ngalaxies += 1\n",
      "    print \"Number of galaxies after: \" + str(ngalaxies)\n",
      "    # Creates arrays for the candidate galaxies and fills it\n",
      "    Galaxies = np.array([[0.0,0.0,0.0,0.0,0.0,0.0,0.0,0.0] for i in range(ngalaxies)])\n",
      "    Masses = np.array([[0.0,0.0,0.0,0.0,0.0] for i in range(ngalaxies)])\n",
      "    i = 0\n",
      "    for j in range(g['count']):\n",
      "        if( (g['SubhaloMassType'][j][0] != 0) and ((g[fields[2]][j][5] < cut)) ):\n",
      "        #if(True):    \n",
      "            #print g['SubhaloMassType'][j][0]\n",
      "            Galaxies[i][0] = g['SubhaloCM'][j][0]\n",
      "            Galaxies[i][1] = g['SubhaloCM'][j][1]\n",
      "            Galaxies[i][2] = g['SubhaloCM'][j][2]\n",
      "            Galaxies[i][3] = g['SubhaloVel'][j][0]\n",
      "            Galaxies[i][4] = g['SubhaloVel'][j][1] \n",
      "            Galaxies[i][5] = g['SubhaloVel'][j][2]\n",
      "            Galaxies[i][6] = g['SubhaloMassType'][j][0]\n",
      "            Galaxies[i][7] = g['SubhaloMassType'][j][1]\n",
      "            Masses[i][0] = g['SubhaloMassType'][j][0]\n",
      "            Masses[i][1] = g['SubhaloMassType'][j][1]\n",
      "            Masses[i][2] = g['SubhaloMassType'][j][4]\n",
      "            Masses[i][3] = g['SubhaloMassType'][j][5]\n",
      "            Masses[i][4] = g['SubhaloBHMass'][j]\n",
      "            i+=1\n",
      "    #print \"Time elapsed: \" + str(time.time() - start_time)\n",
      "    return Galaxies,Masses\n",
      "\n",
      "######################################################\n",
      "#                   Histogram Func                   #\n",
      "######################################################\n",
      "# Gives the x,y of the histogram for logmasses from the given array of mass\n",
      "vol = (75e+3/0.7)**3\n",
      "print 75e+3/0.7\n",
      "def histog( mf, nbins ):\n",
      "    hist, bin_edges = np.histogram(mf, bins = nbins)\n",
      "    # Obtains the center point for each bin\n",
      "    xcenter = (bin_edges[:-1] + bin_edges[1:])/2\n",
      "    return np.array(xcenter), np.array(hist/vol)"
     ],
     "language": "python",
     "metadata": {},
     "outputs": [
      {
       "output_type": "stream",
       "stream": "stdout",
       "text": [
        "107142.857143\n"
       ]
      }
     ],
     "prompt_number": 3
    },
    {
     "cell_type": "code",
     "collapsed": false,
     "input": [
      "basePath = \"../Illustris-1\"\n",
      "Galaxies,Masses = getGalaxies(basePath,0)\n",
      "Masses\n",
      "np.savetxt('Masses1.csv',Masses, delimiter = ',')"
     ],
     "language": "python",
     "metadata": {},
     "outputs": [
      {
       "output_type": "stream",
       "stream": "stdout",
       "text": [
        "Number of galaxies before: 4366546\n",
        "Number of galaxies after: 191443"
       ]
      },
      {
       "output_type": "stream",
       "stream": "stdout",
       "text": [
        "\n"
       ]
      }
     ],
     "prompt_number": 6
    },
    {
     "cell_type": "code",
     "collapsed": false,
     "input": [
      "basePath = \"../Illustris-1\"\n",
      "G_Filter = getGalaxies(basePath,-19)\n",
      "G_NoFilter = getGalaxies(basePath,0)"
     ],
     "language": "python",
     "metadata": {},
     "outputs": [
      {
       "output_type": "stream",
       "stream": "stdout",
       "text": [
        "Number of galaxies before: 4366546\n",
        "Number of galaxies after: 16163"
       ]
      },
      {
       "output_type": "stream",
       "stream": "stdout",
       "text": [
        "\n",
        "Number of galaxies before: 4366546"
       ]
      },
      {
       "output_type": "stream",
       "stream": "stdout",
       "text": [
        "\n",
        "Number of galaxies after: 191443"
       ]
      },
      {
       "output_type": "stream",
       "stream": "stdout",
       "text": [
        "\n"
       ]
      }
     ],
     "prompt_number": 39
    },
    {
     "cell_type": "heading",
     "level": 1,
     "metadata": {},
     "source": [
      "Filter"
     ]
    },
    {
     "cell_type": "heading",
     "level": 3,
     "metadata": {},
     "source": [
      "Gas"
     ]
    },
    {
     "cell_type": "code",
     "collapsed": false,
     "input": [
      "tmp = histog(log10(G_Filter.T[6]*(10**10)),20)\n",
      "plt.errorbar( tmp[0], log10(tmp[1]), yerr = sqrt(vol*tmp[1])/(vol*tmp[1]), fmt='o', ecolor = 'r', c = 'b', markersize=3,elinewidth=1.5)\n",
      "#ax.bar( tmp[0] , log10(tmp[1]), width = tmp[0][1]-tmp[0][2], alpha = 0.4, align = 'center' )"
     ],
     "language": "python",
     "metadata": {},
     "outputs": [
      {
       "metadata": {},
       "output_type": "pyout",
       "prompt_number": 40,
       "text": [
        "<Container object of 3 artists>"
       ]
      },
      {
       "metadata": {},
       "output_type": "display_data",
       "png": "[encoded data removed]",
       "text": [
        "<matplotlib.figure.Figure at 0x7f35bf8cfc50>"
       ]
      }
     ],
     "prompt_number": 40
    },
    {
     "cell_type": "heading",
     "level": 3,
     "metadata": {},
     "source": [
      " DM"
     ]
    },
    {
     "cell_type": "code",
     "collapsed": false,
     "input": [
      "tmp = histog(log10(G_Filter.T[7][where(G_Filter.T[7]!=0)]*(10**10)),20)\n",
      "plt.errorbar( tmp[0], log10(tmp[1]), yerr = sqrt(vol*tmp[1])/(vol*tmp[1]), fmt='o', ecolor = 'r', c = 'b', markersize=3,elinewidth=1.5)\n",
      "#ax.bar( tmp[0] , log10(tmp[1]), width = tmp[0][1]-tmp[0][2], alpha = 0.4, align = 'center' )"
     ],
     "language": "python",
     "metadata": {},
     "outputs": [
      {
       "metadata": {},
       "output_type": "pyout",
       "prompt_number": 41,
       "text": [
        "<Container object of 3 artists>"
       ]
      },
      {
       "metadata": {},
       "output_type": "display_data",
       "png": "[encoded data removed]",
       "text": [
        "<matplotlib.figure.Figure at 0x7f35ddc90210>"
       ]
      }
     ],
     "prompt_number": 41
    },
    {
     "cell_type": "heading",
     "level": 1,
     "metadata": {},
     "source": [
      "No Filter"
     ]
    },
    {
     "cell_type": "heading",
     "level": 3,
     "metadata": {},
     "source": [
      "Gas"
     ]
    },
    {
     "cell_type": "code",
     "collapsed": false,
     "input": [
      "tmp = histog(log10(G_NoFilter.T[6]*(10**10)),20)\n",
      "plt.errorbar( tmp[0], log10(tmp[1]), yerr = sqrt(vol*tmp[1])/(vol*tmp[1]), fmt='o', ecolor = 'r', c = 'b', markersize=3,elinewidth=1.5)\n",
      "#ax.bar( tmp[0] , log10(tmp[1]), width = tmp[0][1]-tmp[0][2], alpha = 0.4, align = 'center' )"
     ],
     "language": "python",
     "metadata": {},
     "outputs": [
      {
       "metadata": {},
       "output_type": "pyout",
       "prompt_number": 42,
       "text": [
        "<Container object of 3 artists>"
       ]
      },
      {
       "metadata": {},
       "output_type": "display_data",
       "png": "[encoded data removed]",
       "text": [
        "<matplotlib.figure.Figure at 0x7f35bf445490>"
       ]
      }
     ],
     "prompt_number": 42
    },
    {
     "cell_type": "heading",
     "level": 3,
     "metadata": {},
     "source": [
      "DM"
     ]
    },
    {
     "cell_type": "code",
     "collapsed": false,
     "input": [
      "tmp = histog(log10(G_NoFilter.T[7][where(G_NoFilter.T[7]!=0)]*(10**10)),20)\n",
      "plt.errorbar( tmp[0], log10(tmp[1]), yerr = sqrt(vol*tmp[1])/(vol*tmp[1]), fmt='o', ecolor = 'r', c = 'b', markersize=3,elinewidth=1.5)\n",
      "#ax.bar( tmp[0] , log10(tmp[1]), width = tmp[0][1]-tmp[0][2], alpha = 0.4, align = 'center' )"
     ],
     "language": "python",
     "metadata": {},
     "outputs": [
      {
       "metadata": {},
       "output_type": "pyout",
       "prompt_number": 43,
       "text": [
        "<Container object of 3 artists>"
       ]
      },
      {
       "metadata": {},
       "output_type": "display_data",
       "png": "[encoded data removed]",
       "text": [
        "<matplotlib.figure.Figure at 0x7f35bf4a8290>"
       ]
      }
     ],
     "prompt_number": 43
    },
    {
     "cell_type": "heading",
     "level": 1,
     "metadata": {},
     "source": [
      "Photometrics cut"
     ]
    },
    {
     "cell_type": "code",
     "collapsed": false,
     "input": [
      "g = il.groupcat.loadSubhalos(basePath,135,fields=['SubhaloMassType','SubhaloStellarPhotometrics'])\n",
      "vol = 1\n",
      "tmp = histog(-g['SubhaloStellarPhotometrics'].T[5][where((g['SubhaloStellarPhotometrics'].T[5] < 1e+4)\n",
      "                                                         *(g['SubhaloMassType'].T[0] != 0)) ],20)\n",
      "plt.errorbar( tmp[0], tmp[1], yerr = sqrt(vol*tmp[1])/(vol*tmp[1]), fmt='o', ecolor = 'r', c = 'b', markersize=3,elinewidth=1.5)\n",
      "plt.plot((19, 19), (0, 25000), 'g-')\n",
      "#ax.bar( tmp[0] , log10(tmp[1]), width = tmp[0][1]-tmp[0][2], alpha = 0.4, align = 'center' ).T[5]"
     ],
     "language": "python",
     "metadata": {},
     "outputs": [
      {
       "metadata": {},
       "output_type": "pyout",
       "prompt_number": 45,
       "text": [
        "[<matplotlib.lines.Line2D at 0x7f35c016bf50>]"
       ]
      },
      {
       "metadata": {},
       "output_type": "display_data",
       "png": "[encoded data removed]",
       "text": [
        "<matplotlib.figure.Figure at 0x7f35bfeb1d50>"
       ]
      }
     ],
     "prompt_number": 45
    },
    {
     "cell_type": "code",
     "collapsed": false,
     "input": [
      "print len(g['SubhaloStellarPhotometrics'].T[5][where(abs(g['SubhaloStellarPhotometrics'].T[5]) < 1e+4)]),len(g['SubhaloStellarPhotometrics'].T[5])"
     ],
     "language": "python",
     "metadata": {},
     "outputs": [
      {
       "output_type": "stream",
       "stream": "stdout",
       "text": [
        "307786 4366546\n"
       ]
      }
     ],
     "prompt_number": 46
    },
    {
     "cell_type": "code",
     "collapsed": false,
     "input": [
      "len(-g['SubhaloStellarPhotometrics'].T[5][where((g['SubhaloStellarPhotometrics'].T[5] < 1e+4)\n",
      "                                                         *(g['SubhaloMassType'].T[0] != 0)) ])"
     ],
     "language": "python",
     "metadata": {},
     "outputs": [
      {
       "metadata": {},
       "output_type": "pyout",
       "prompt_number": 47,
       "text": [
        "191443"
       ]
      }
     ],
     "prompt_number": 47
    },
    {
     "cell_type": "code",
     "collapsed": false,
     "input": [
      "start_time = time.time()\n",
      "basePath = \"../Illustris-1\"\n",
      "# Selects the fields to load for subhalos\n",
      "fields = ['SubhaloStellarPhotometrics','SubhaloMassType']\n",
      "# Loads subhalos to variable g\n",
      "g = il.groupcat.loadSubhalos(basePath,135,fields=fields)\n",
      "\n",
      "# Counts the galaxies by magnitude and not null gas mass\n",
      "# filter the galaxies for its photometrics (only rband < -19)\n",
      "print \"Number of galaxies before: \" + str(g['count'])\n",
      "ngalaxies = 0\n",
      "print len(np.where((g[fields[1]][:,0]!=0)*(g[fields[0]][:,5]<0))[0])"
     ],
     "language": "python",
     "metadata": {},
     "outputs": [
      {
       "output_type": "stream",
       "stream": "stdout",
       "text": [
        "Number of galaxies before: 4366546\n",
        "191443"
       ]
      },
      {
       "output_type": "stream",
       "stream": "stdout",
       "text": [
        "\n"
       ]
      }
     ],
     "prompt_number": 22
    },
    {
     "cell_type": "code",
     "collapsed": false,
     "input": [],
     "language": "python",
     "metadata": {},
     "outputs": []
    }
   ],
   "metadata": {}
  }
 ]
}