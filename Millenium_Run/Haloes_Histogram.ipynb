{
 "metadata": {
  "name": "",
  "signature": "sha256:9005d50706076a41d7ac7227abb18a0ee0e6865bc97706b1a466269999eba0ed"
 },
 "nbformat": 3,
 "nbformat_minor": 0,
 "worksheets": [
  {
   "cells": [
    {
     "cell_type": "code",
     "collapsed": false,
     "input": [
      "%pylab inline\n",
      "%ls"
     ],
     "language": "python",
     "metadata": {},
     "outputs": [
      {
       "output_type": "stream",
       "stream": "stdout",
       "text": [
        "Populating the interactive namespace from numpy and matplotlib\n",
        "Haloes_Histogram.ipynb  Halo_mass.sql  Histo.sql  Table.csv\r\n"
       ]
      },
      {
       "output_type": "stream",
       "stream": "stderr",
       "text": [
        "WARNING: pylab import has clobbered these variables: ['table']\n",
        "`%matplotlib` prevents importing * from pylab and numpy\n"
       ]
      }
     ],
     "prompt_number": 59
    },
    {
     "cell_type": "code",
     "collapsed": false,
     "input": [
      "table = loadtxt(\"Table.csv\", skiprows = 0, delimiter = ',').T[1]"
     ],
     "language": "python",
     "metadata": {},
     "outputs": [],
     "prompt_number": 63
    },
    {
     "cell_type": "code",
     "collapsed": false,
     "input": [
      "nbins = 10\n",
      "histy = []\n",
      "histx = []\n",
      "actual = min(table)\n",
      "dx = (max(table) - min(table))/nbins\n",
      "for i in range(nbins):\n",
      "    histx.append(actual+i*dx)\n",
      "    histy.append(len(where((table >= actual+i*dx) & (table < actual+(i+1)*dx))[0]))\n",
      "histy = array(histy)\n",
      "histx = array(histx)"
     ],
     "language": "python",
     "metadata": {},
     "outputs": [],
     "prompt_number": 75
    },
    {
     "cell_type": "code",
     "collapsed": false,
     "input": [
      "bar(histx,histy, width = dx)"
     ],
     "language": "python",
     "metadata": {},
     "outputs": [
      {
       "metadata": {},
       "output_type": "pyout",
       "prompt_number": 76,
       "text": [
        "<Container object of 10 artists>"
       ]
      },
      {
       "metadata": {},
       "output_type": "display_data",
       "png": "[encoded data removed]",
       "text": [
        "<matplotlib.figure.Figure at 0x7f05b2935050>"
       ]
      }
     ],
     "prompt_number": 76
    },
    {
     "cell_type": "code",
     "collapsed": false,
     "input": [
      "array([histx,histy]).T"
     ],
     "language": "python",
     "metadata": {},
     "outputs": [
      {
       "metadata": {},
       "output_type": "pyout",
       "prompt_number": 77,
       "text": [
        "array([[  20. ,   44. ],\n",
        "       [  89.2,    7. ],\n",
        "       [ 158.4,    1. ],\n",
        "       [ 227.6,    0. ],\n",
        "       [ 296.8,    1. ],\n",
        "       [ 366. ,    0. ],\n",
        "       [ 435.2,    0. ],\n",
        "       [ 504.4,    0. ],\n",
        "       [ 573.6,    0. ],\n",
        "       [ 642.8,    0. ]])"
       ]
      }
     ],
     "prompt_number": 77
    },
    {
     "cell_type": "code",
     "collapsed": false,
     "input": [
      "print len(table)"
     ],
     "language": "python",
     "metadata": {},
     "outputs": [
      {
       "output_type": "stream",
       "stream": "stdout",
       "text": [
        "54\n"
       ]
      }
     ],
     "prompt_number": 78
    },
    {
     "cell_type": "code",
     "collapsed": false,
     "input": [],
     "language": "python",
     "metadata": {},
     "outputs": []
    }
   ],
   "metadata": {}
  }
 ]
}