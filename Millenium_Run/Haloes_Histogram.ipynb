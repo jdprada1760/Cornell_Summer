{
 "metadata": {
  "name": "",
  "signature": "sha256:60d4e8d6dd17da213799dbb918843afd773670f7873a6a9ea2d221db4dab6417"
 },
 "nbformat": 3,
 "nbformat_minor": 0,
 "worksheets": [
  {
   "cells": [
    {
     "cell_type": "code",
     "collapsed": false,
     "input": [
      "%pylab inline\n",
      "%ls"
     ],
     "language": "python",
     "metadata": {},
     "outputs": [
      {
       "output_type": "stream",
       "stream": "stdout",
       "text": [
        "Populating the interactive namespace from numpy and matplotlib\n",
        "Haloes_Histogram.ipynb  Halo_mass.sql\r\n"
       ]
      }
     ],
     "prompt_number": 5
    },
    {
     "cell_type": "code",
     "collapsed": false,
     "input": [
      "table = log(log(loadtxt(\"Table.csv\", skiprows = 1, delimiter = ',').T[1]))"
     ],
     "language": "python",
     "metadata": {},
     "outputs": [],
     "prompt_number": 56
    },
    {
     "cell_type": "code",
     "collapsed": false,
     "input": [
      "nbins = 10\n",
      "histy = []\n",
      "histx = []\n",
      "actual = min(table)\n",
      "dx = (max(table) - min(table))/nbins\n",
      "for i in range(nbins):\n",
      "    histx.append(actual+i*dx)\n",
      "    histy.append(len(where((table >= actual+i*dx) & (table < actual+(i+1)*dx))[0]))\n",
      "histy = array(histy)\n",
      "histx = array(histx)"
     ],
     "language": "python",
     "metadata": {},
     "outputs": [],
     "prompt_number": 57
    },
    {
     "cell_type": "code",
     "collapsed": false,
     "input": [
      "bar(histx,histy, width = dx)"
     ],
     "language": "python",
     "metadata": {},
     "outputs": [
      {
       "metadata": {},
       "output_type": "pyout",
       "prompt_number": 58,
       "text": [
        "<Container object of 10 artists>"
       ]
      },
      {
       "metadata": {},
       "output_type": "display_data",
       "png": "[encoded data removed]",
       "text": [
        "<matplotlib.figure.Figure at 0x7f05b2b5be90>"
       ]
      }
     ],
     "prompt_number": 58
    },
    {
     "cell_type": "code",
     "collapsed": false,
     "input": [
      "histx,histy"
     ],
     "language": "python",
     "metadata": {},
     "outputs": [
      {
       "metadata": {},
       "output_type": "pyout",
       "prompt_number": 44,
       "text": [
        "(array([   20. ,   194.8,   369.6,   544.4,   719.2,   894. ,  1068.8,\n",
        "         1243.6,  1418.4,  1593.2]),\n",
        " array([903,  56,  15,  16,   3,   1,   0,   2,   1,   2]))"
       ]
      }
     ],
     "prompt_number": 44
    },
    {
     "cell_type": "code",
     "collapsed": false,
     "input": [],
     "language": "python",
     "metadata": {},
     "outputs": []
    }
   ],
   "metadata": {}
  }
 ]
}