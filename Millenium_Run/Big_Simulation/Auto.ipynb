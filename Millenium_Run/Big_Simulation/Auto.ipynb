{
 "metadata": {
  "name": "",
  "signature": "sha256:3a6daedb97645565791af3a0b9d9cbec313ad04c2decd9cbcb5f64f437efa185"
 },
 "nbformat": 3,
 "nbformat_minor": 0,
 "worksheets": [
  {
   "cells": [
    {
     "cell_type": "code",
     "collapsed": false,
     "input": [
      "%pylab inline\n",
      "import os\n",
      "!ls\n"
     ],
     "language": "python",
     "metadata": {},
     "outputs": [
      {
       "output_type": "stream",
       "stream": "stdout",
       "text": [
        "Populating the interactive namespace from numpy and matplotlib\n",
        "Auto.ipynb  haloCube.sql  nodoc.sql  quartile.ipynb  temp.sql\r\n"
       ]
      }
     ],
     "prompt_number": 1
    },
    {
     "cell_type": "code",
     "collapsed": false,
     "input": [
      "#Creates a script that automatically runs various queries\n",
      "x = 4\n",
      "y = 4\n",
      "z = 4\n",
      "d = 30\n",
      "n = 3\n",
      "name  = \"data.sh\"\n",
      "os.system(\"rm \" + name)\n",
      "for i in range(1,x):\n",
      "    for j in range(1,y):\n",
      "        for k in range(1,z):\n",
      "            print d*i,d*j,d*k\n",
      "            # Calculates the distance to the fourth nearest neighbor\n",
      "            os.system(\"echo \\\"wget -O \"+str(i) + str(j) + str(k)+\".csv\" + \" --http-user=jdprada --http-passwd=80O9favbS \" +\".csv \\\\\\\"http://gavo.mpa-garching.mpg.de/MyMillennium?action=doQuery&SQL=\\\" >> \" + name)\n",
      "            os.system(\"cat nodoc.sql >> \" + name)\n",
      "            os.system(\"echo \\\" \\\\\\\" \\\\n\\\\n \\\" >> \" + name)\n",
      "            os.system(\"sed -i \\'s/+/%2B/g\\' \" + name)\n",
      "            os.system(\"sed -i \\'s/%x/\" + str(d*i) + \"/g\\' \" + name)\n",
      "            os.system(\"sed -i \\'s/%y/\" + str(d*j) + \"/g\\' \" + name) \n",
      "            os.system(\"sed -i \\'s/%z/\" + str(d*k) + \"/g\\' \" + name) \n",
      "            os.system(\"sed -i \\'s/$x/\" + str(d*i+d) + \"/g\\' \" + name)\n",
      "            os.system(\"sed -i \\'s/$y/\" + str(d*j+d) + \"/g\\' \" + name) \n",
      "            os.system(\"sed -i \\'s/$z/\" + str(d*k+d) + \"/g\\' \" + name)\n",
      "            os.system(\"chmod +x \" + name)\n",
      "            os.system(\"./\"+name)\n",
      "            os.system(\"rm \" + name)            \n",
      "\n",
      "\n",
      "os.system(\"sed -i '/#/d' *.csv\")\n",
      "os.system(\"sed -i '/SIGMA/d' *.csv\")\n",
      "os.system(\"cat *.csv >> finalResult.data\")\n",
      "os.system(\"rm *.csv\")\n",
      "\n",
      "            "
     ],
     "language": "python",
     "metadata": {},
     "outputs": [
      {
       "output_type": "stream",
       "stream": "stdout",
       "text": [
        "30 30 30\n",
        "30"
       ]
      },
      {
       "output_type": "stream",
       "stream": "stdout",
       "text": [
        " 30 60\n",
        "30"
       ]
      },
      {
       "output_type": "stream",
       "stream": "stdout",
       "text": [
        " 30 90\n",
        "30"
       ]
      },
      {
       "output_type": "stream",
       "stream": "stdout",
       "text": [
        " 60 30\n",
        "30"
       ]
      },
      {
       "output_type": "stream",
       "stream": "stdout",
       "text": [
        " 60 60\n",
        "30"
       ]
      },
      {
       "output_type": "stream",
       "stream": "stdout",
       "text": [
        " 60 90\n",
        "30"
       ]
      },
      {
       "output_type": "stream",
       "stream": "stdout",
       "text": [
        " 90 30\n",
        "30"
       ]
      },
      {
       "output_type": "stream",
       "stream": "stdout",
       "text": [
        " 90 60\n",
        "30"
       ]
      },
      {
       "output_type": "stream",
       "stream": "stdout",
       "text": [
        " 90 90\n",
        "60"
       ]
      },
      {
       "output_type": "stream",
       "stream": "stdout",
       "text": [
        " 30 30\n",
        "60"
       ]
      },
      {
       "output_type": "stream",
       "stream": "stdout",
       "text": [
        " 30 60\n",
        "60"
       ]
      },
      {
       "output_type": "stream",
       "stream": "stdout",
       "text": [
        " 30 90\n",
        "60"
       ]
      },
      {
       "output_type": "stream",
       "stream": "stdout",
       "text": [
        " 60 30\n",
        "60"
       ]
      },
      {
       "output_type": "stream",
       "stream": "stdout",
       "text": [
        " 60 60\n",
        "60"
       ]
      },
      {
       "output_type": "stream",
       "stream": "stdout",
       "text": [
        " 60 90\n",
        "60"
       ]
      },
      {
       "output_type": "stream",
       "stream": "stdout",
       "text": [
        " 90 30\n",
        "60"
       ]
      },
      {
       "output_type": "stream",
       "stream": "stdout",
       "text": [
        " 90 60\n",
        "60"
       ]
      },
      {
       "output_type": "stream",
       "stream": "stdout",
       "text": [
        " 90 90\n",
        "90"
       ]
      },
      {
       "output_type": "stream",
       "stream": "stdout",
       "text": [
        " 30 30\n",
        "90"
       ]
      },
      {
       "output_type": "stream",
       "stream": "stdout",
       "text": [
        " 30 60\n",
        "90"
       ]
      },
      {
       "output_type": "stream",
       "stream": "stdout",
       "text": [
        " 30 90\n",
        "90"
       ]
      },
      {
       "output_type": "stream",
       "stream": "stdout",
       "text": [
        " 60 30\n",
        "90"
       ]
      },
      {
       "output_type": "stream",
       "stream": "stdout",
       "text": [
        " 60 60\n",
        "90"
       ]
      },
      {
       "output_type": "stream",
       "stream": "stdout",
       "text": [
        " 60 90\n",
        "90"
       ]
      },
      {
       "output_type": "stream",
       "stream": "stdout",
       "text": [
        " 90 30\n",
        "90"
       ]
      },
      {
       "output_type": "stream",
       "stream": "stdout",
       "text": [
        " 90 60\n",
        "90"
       ]
      },
      {
       "output_type": "stream",
       "stream": "stdout",
       "text": [
        " 90 90\n"
       ]
      },
      {
       "metadata": {},
       "output_type": "pyout",
       "prompt_number": 2,
       "text": [
        "0"
       ]
      }
     ],
     "prompt_number": 2
    },
    {
     "cell_type": "code",
     "collapsed": false,
     "input": [
      "!cat 0.csv\n",
      "\n",
      "\n"
     ],
     "language": "python",
     "metadata": {},
     "outputs": [
      {
       "output_type": "stream",
       "stream": "stdout",
       "text": [
        "cat: 0.csv: No such file or directory\r\n"
       ]
      }
     ],
     "prompt_number": 40
    },
    {
     "cell_type": "code",
     "collapsed": false,
     "input": [
      "i = 0\n",
      "j = 0\n",
      "k = 0\n",
      "os.system(\"echo \\\"wget -O \"+str(i) + str(j) + str(k)+\".csv\" + \" --http-user=jdprada --http-passwd=80O9favbS \" +\".csv \\\\\\\"http://gavo.mpa-garching.mpg.de/MyMillennium?action=doQuery&SQL=\\\" >> \" + name)\n",
      "os.system(\"cat haloCube.sql >> \" + name)\n",
      "os.system(\"echo \\\" \\\\\\\" \\\\n\\\\n \\\" >> \" + name)\n",
      "os.system(\"sed -i \\'s/+/%2B/g\\' \" + name)\n",
      "os.system(\"sed -i \\'s/%x/\" + str(d*i) + \"/g\\' \" + name)\n",
      "os.system(\"sed -i \\'s/%y/\" + str(d*j) + \"/g\\' \" + name) \n",
      "os.system(\"sed -i \\'s/%z/\" + str(d*k) + \"/g\\' \" + name) \n",
      "os.system(\"sed -i \\'s/$x/\" + str(d*i+d) + \"/g\\' \" + name)\n",
      "os.system(\"sed -i \\'s/$y/\" + str(d*j+d) + \"/g\\' \" + name) \n",
      "os.system(\"sed -i \\'s/$z/\" + str(d*k+d) + \"/g\\' \" + name)\n",
      "os.system(\"chmod +x \" + name)\n",
      "os.system(\"./\"+name)\n",
      "                     "
     ],
     "language": "python",
     "metadata": {},
     "outputs": [
      {
       "metadata": {},
       "output_type": "pyout",
       "prompt_number": 5,
       "text": [
        "1024"
       ]
      }
     ],
     "prompt_number": 5
    },
    {
     "cell_type": "code",
     "collapsed": false,
     "input": [
      "os.system(\"sed -i '/DIST/d' *.data\")"
     ],
     "language": "python",
     "metadata": {},
     "outputs": [
      {
       "metadata": {},
       "output_type": "pyout",
       "prompt_number": 4,
       "text": [
        "0"
       ]
      }
     ],
     "prompt_number": 4
    },
    {
     "cell_type": "code",
     "collapsed": false,
     "input": [],
     "language": "python",
     "metadata": {},
     "outputs": []
    }
   ],
   "metadata": {}
  }
 ]
}