{
 "metadata": {
  "name": "",
  "signature": "sha256:2e06fb08dffe645ff2794095e556b2492bb0a2a16fc551f7b9f36e307c4e505b"
 },
 "nbformat": 3,
 "nbformat_minor": 0,
 "worksheets": [
  {
   "cells": [
    {
     "cell_type": "code",
     "collapsed": false,
     "input": [
      "%pylab inline"
     ],
     "language": "python",
     "metadata": {},
     "outputs": [
      {
       "output_type": "stream",
       "stream": "stdout",
       "text": [
        "Populating the interactive namespace from numpy and matplotlib\n"
       ]
      }
     ],
     "prompt_number": 1
    },
    {
     "cell_type": "code",
     "collapsed": false,
     "input": [
      "!ls"
     ],
     "language": "python",
     "metadata": {},
     "outputs": [
      {
       "output_type": "stream",
       "stream": "stdout",
       "text": [
        "environment.ipynb  g_environment.sql  Haloes_Histogram.ipynb  Histo.sql      quartile.ipynb  Table.csv~\r\n",
        "galaxies.sql\t   Graphs.ipynb       Halo_mass.sql\t      multi_env.sql  Table.csv\t     Untitled0.ipynb\r\n"
       ]
      }
     ],
     "prompt_number": 2
    },
    {
     "cell_type": "code",
     "collapsed": false,
     "input": [
      "# Reads the csv\n",
      "name = \"Table.csv\"\n",
      "table = np.loadtxt(name, skiprows = 0, delimiter = ',').T"
     ],
     "language": "python",
     "metadata": {},
     "outputs": [],
     "prompt_number": 22
    },
    {
     "cell_type": "code",
     "collapsed": false,
     "input": [
      "# Calculates the first quartile of logsigma\n",
      "lsigma = table[2]\n",
      "mass = table[0]\n",
      "q = np.percentile(lsigma,25)\n",
      "# Keeps first quartile\n",
      "q1 = mass[where(lsigma < q)]\n",
      "# Removes fist quartile from lsigma\n",
      "mass = mass[where(lsigma >= q)]\n",
      "lsigma = lsigma[where(lsigma >= q)]\n",
      "# Second quartile\n",
      "q = np.percentile(lsigma,33.333333)\n",
      "q2 = mass[where(lsigma < q)]\n",
      "mass = mass[where(lsigma >= q)]\n",
      "lsigma = lsigma[where(lsigma >= q)]\n",
      "# Third and Fourth quartile\n",
      "q = np.percentile(lsigma,50)\n",
      "q3 = mass[where(lsigma < q)]\n",
      "q4 = mass[where(lsigma >= q)]\n",
      "# verify the length of each quartile\n",
      "print len(q1),len(q2),len(q3),len(q4)"
     ],
     "language": "python",
     "metadata": {},
     "outputs": [
      {
       "output_type": "stream",
       "stream": "stdout",
       "text": [
        "399 398 398 399\n"
       ]
      }
     ],
     "prompt_number": 26
    },
    {
     "cell_type": "code",
     "collapsed": false,
     "input": [
      "# Gives the x,y of the histogram for logmasses from the given array of mass\n",
      "def histog( mf, nbins ):\n",
      "    histy = []\n",
      "    histx = []\n",
      "    actual = min(mf)\n",
      "    dx = (max(mf) - min(mf))/nbins\n",
      "    for i in range(nbins):\n",
      "        histx.append(actual+i*dx)\n",
      "        histy.append(len(where((mf >= actual+i*dx) & (mf < actual+(i+1)*dx))[0]))\n",
      "    return (array(histx), array(histy))\n"
     ],
     "language": "python",
     "metadata": {},
     "outputs": [],
     "prompt_number": 27
    },
    {
     "cell_type": "code",
     "collapsed": false,
     "input": [
      "# Graphics of the mass function for each quartile\n",
      "bins = 15\n",
      "fig, axes = plt.subplots(nrows=2, ncols=2, figsize=(15,10) )\n",
      "plt.subplots_adjust(left=None, bottom=None, right=None, top=None, wspace=0.2, hspace=0.3)\n",
      "ax0, ax1, ax2, ax3 = axes.flat\n",
      "# Histo for first quartile\n",
      "tmp = histog(log(q1),bins)\n",
      "ax0.bar( tmp[0], log(tmp[1]), width = tmp[0][1]-tmp[0][2] )\n",
      "ax0.set_title('First Quartile', fontsize = 18)\n",
      "ax0.set_ylabel('$Log_{10}(N)$', fontsize = 18)\n",
      "ax0.set_xlabel('$Log_{10}(M)$', fontsize = 18)\n",
      "# Other quartiles\n",
      "tmp = histog(log(q2),bins)\n",
      "ax1.bar( tmp[0], log(tmp[1]), width = tmp[0][1]-tmp[0][2] )\n",
      "ax1.set_title('Second Quartile', fontsize = 18)\n",
      "ax1.set_ylabel('$Log_{10}(N)$', fontsize = 18)\n",
      "ax1.set_xlabel('$Log_{10}(M)$', fontsize = 18)\n",
      "# --\n",
      "tmp = histog(log(q3),bins)\n",
      "ax2.bar( tmp[0], log(tmp[1]), width = tmp[0][1]-tmp[0][2] )\n",
      "ax2.set_title('Third Quartile', fontsize = 18)\n",
      "ax2.set_ylabel('$Log_{10}(N)$', fontsize = 18)\n",
      "ax2.set_xlabel('$Log_{10}(M)$', fontsize = 18)\n",
      "# --\n",
      "tmp = histog(log(q3),bins)\n",
      "ax3.bar( tmp[0], log(tmp[1]), width = tmp[0][1]-tmp[0][2] )\n",
      "ax3.set_title('Fourth Quartile', fontsize = 18)\n",
      "ax3.set_ylabel('$Log_{10}(N)$', fontsize = 18)\n",
      "ax3.set_xlabel('$Log_{10}(M)$', fontsize = 18)"
     ],
     "language": "python",
     "metadata": {},
     "outputs": [
      {
       "metadata": {},
       "output_type": "pyout",
       "prompt_number": 47,
       "text": [
        "<matplotlib.text.Text at 0x7f42381510d0>"
       ]
      },
      {
       "metadata": {},
       "output_type": "display_data",
       "png": "[encoded data removed]",
       "text": [
        "<matplotlib.figure.Figure at 0x7f42383a7090>"
       ]
      }
     ],
     "prompt_number": 47
    },
    {
     "cell_type": "code",
     "collapsed": false,
     "input": [],
     "language": "python",
     "metadata": {},
     "outputs": []
    }
   ],
   "metadata": {}
  }
 ]
}